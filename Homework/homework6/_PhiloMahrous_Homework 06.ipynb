{
 "cells": [
  {
   "cell_type": "markdown",
   "metadata": {},
   "source": [
    "Your name goes here Pleaese"
   ]
  },
  {
   "cell_type": "markdown",
   "metadata": {},
   "source": [
    "## Objective:\n",
    "The objective of this assignment is to practice using Functional Programing.\n",
    "\n",
    "## Instructions:\n",
    "\n",
    "Using everything we learned to day about Functional Programing, lambda and itters create one of each of the following:\n",
    "-  Basic Lambda Function\n",
    "    - Create a lambda function that takes one arguments and returns even or odd.\n",
    "- Advanced lambda Function\n",
    "    - Create a lambda function that takes a list and returns their sum \n",
    "- Sorting with Lambda\n",
    "- Filtering with Lambda - `filter()` \n",
    "- Mapping with Lambda - `map()`\n",
    "- Reducing with Lambda -  `reduce()` \n",
    "- Enumerate with or without Lambda - `enumerate()`\n",
    "- zip with or without lambda (may combine enumerate like in class) - `zip()`\n",
    "\n",
    "Submit the file as a .py \n",
    "\n",
    "\n"
   ]
  },
  {
   "cell_type": "code",
   "execution_count": null,
   "metadata": {},
   "outputs": [],
   "source": [
    "from functools import reduce\n",
    "check_even_odd = lambda num: \"Even\" if num % 2 == 0 else \"Odd\"\n",
    "sum_of_list = lambda my_list: reduce(lambda a, b: a + b, my_list)\n",
    "my_data = [(1, 3), (6,7), (9, 4)]\n",
    "sorted_my_data = sorted(my_data, key=lambda x: x[1])\n",
    "my_numbers = [1, 2, 3, 4, 5, 6, 7, 8, 9, 10]\n",
    "even_numbers = list(filter(lambda x: x % 2 == 0, my_numbers))\n",
    "squared_numbers = list(map(lambda x: x**2, my_numbers))\n",
    "multiplied_numbers = reduce(lambda a, b: a*b, my_numbers)\n",
    "indexed_numbers = list(map(lambda x: (x[0], x[1]), enumerate(my_numbers)))\n",
    "list_one = [1, 2, 3]\n",
    "list_two = ['a', 'b', 'c']\n",
    "combined_list= list(zip(list_one, list_two))\n",
    "\n",
    "print(\"1. Basic Lambda (Even/Odd):\", check_even_odd(7))\n",
    "print(\"2. Advanced Lambda (Sum of List):\", sum_of_list(my_numbers))\n",
    "print(\"3. Sorting with Lambda:\", sorted_my_data)\n",
    "print(\"4. Filtering with Lambda (Evens):\", even_numbers)\n",
    "print(\"5. Mapping with Lambda (Squared):\", squared_numbers)\n",
    "print(\"6. reducing with Lambda (Product):\", multiplied_numbers)\n",
    "print(\"7. Enumerate with Lambda:\" indexed_numbers)\n",
    "print(\"8. Zip with Lambda:\", combined_list)\n"
   ]
  }
 ],
 "metadata": {
  "kernelspec": {
   "display_name": "Python 3",
   "language": "python",
   "name": "python3"
  },
  "language_info": {
   "codemirror_mode": {
    "name": "ipython",
    "version": 3
   },
   "file_extension": ".py",
   "mimetype": "text/x-python",
   "name": "python",
   "nbconvert_exporter": "python",
   "pygments_lexer": "ipython3",
   "version": "3.13.2"
  }
 },
 "nbformat": 4,
 "nbformat_minor": 2
}
